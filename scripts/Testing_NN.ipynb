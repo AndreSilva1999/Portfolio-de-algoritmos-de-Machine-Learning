{
 "cells": [
  {
   "attachments": {},
   "cell_type": "markdown",
   "metadata": {},
   "source": [
    "# Testing NN and Dense"
   ]
  },
  {
   "cell_type": "code",
   "execution_count": 1,
   "metadata": {},
   "outputs": [],
   "source": [
    "from si.neural_netwoks.Layer import *\n",
    "from si.neural_netwoks.NN import *\n",
    "from si.data.dataset1 import Dataset\n",
    "import numpy as np\n",
    "import pandas as pd"
   ]
  },
  {
   "cell_type": "code",
   "execution_count": 2,
   "metadata": {},
   "outputs": [],
   "source": [
    "#Create dataset\n",
    "X = np.random.randn(1000, 32)\n",
    "y_real = np.random.randint(2, size=(1000, 1))\n",
    "dataset_= Dataset(X=X,y=y_real)"
   ]
  },
  {
   "cell_type": "code",
   "execution_count": 3,
   "metadata": {},
   "outputs": [],
   "source": [
    "l1= Dense(input_size=32,output_size=32)\n",
    "l2= Dense(input_size=32,output_size=16)\n",
    "l3= Dense(input_size=16,output_size=1)\n",
    "l2_sg= SigmoidActivation()"
   ]
  },
  {
   "cell_type": "code",
   "execution_count": 4,
   "metadata": {},
   "outputs": [],
   "source": [
    "nn_model= NN(layers=[l1,l2,l2_sg,l3])"
   ]
  },
  {
   "cell_type": "code",
   "execution_count": 5,
   "metadata": {},
   "outputs": [
    {
     "ename": "TypeError",
     "evalue": "backward() takes 2 positional arguments but 3 were given",
     "output_type": "error",
     "traceback": [
      "\u001b[1;31m---------------------------------------------------------------------------\u001b[0m",
      "\u001b[1;31mTypeError\u001b[0m                                 Traceback (most recent call last)",
      "\u001b[1;32mc:\\Users\\André Silva\\SI\\scripts\\Testing_NN.ipynb Cell 6\u001b[0m in \u001b[0;36m<cell line: 1>\u001b[1;34m()\u001b[0m\n\u001b[1;32m----> <a href='vscode-notebook-cell:/c%3A/Users/Andr%C3%A9%20Silva/SI/scripts/Testing_NN.ipynb#X10sZmlsZQ%3D%3D?line=0'>1</a>\u001b[0m nn_model\u001b[39m.\u001b[39;49mfit(dataset\u001b[39m=\u001b[39;49mdataset_)\n\u001b[0;32m      <a href='vscode-notebook-cell:/c%3A/Users/Andr%C3%A9%20Silva/SI/scripts/Testing_NN.ipynb#X10sZmlsZQ%3D%3D?line=1'>2</a>\u001b[0m nn_model\u001b[39m.\u001b[39mpredict()\n",
      "File \u001b[1;32mc:\\users\\andré silva\\si\\src\\si\\neural_netwoks\\NN.py:64\u001b[0m, in \u001b[0;36mNN.fit\u001b[1;34m(self, dataset)\u001b[0m\n\u001b[0;32m     62\u001b[0m error\u001b[39m=\u001b[39m \u001b[39mself\u001b[39m\u001b[39m.\u001b[39mloss_derivative(y_pred,y_true)\n\u001b[0;32m     63\u001b[0m \u001b[39mfor\u001b[39;00m layer \u001b[39min\u001b[39;00m \u001b[39mself\u001b[39m\u001b[39m.\u001b[39mlayers[::\u001b[39m-\u001b[39m\u001b[39m1\u001b[39m]:\n\u001b[1;32m---> 64\u001b[0m     error\u001b[39m=\u001b[39m layer\u001b[39m.\u001b[39;49mbackward(error, \u001b[39mself\u001b[39;49m\u001b[39m.\u001b[39;49mlearning_rate)\n\u001b[0;32m     65\u001b[0m \u001b[39m#Save cost\u001b[39;00m\n\u001b[0;32m     66\u001b[0m cost\u001b[39m=\u001b[39m \u001b[39mself\u001b[39m\u001b[39m.\u001b[39mloss_function(y_pred,y_true)\n",
      "\u001b[1;31mTypeError\u001b[0m: backward() takes 2 positional arguments but 3 were given"
     ]
    }
   ],
   "source": [
    "nn_model.fit(dataset=dataset_)\n",
    "nn_model.predict()"
   ]
  },
  {
   "cell_type": "code",
   "execution_count": null,
   "metadata": {},
   "outputs": [],
   "source": [
    "#part 2\n",
    "\n",
    "l1= Dense(input_size=32,output_size=32)\n",
    "l2= Dense(input_size=32,output_size=16)\n",
    "l3= Dense(input_size=16,output_size=2)\n",
    "l2_sg= SigmoidActivation()\n",
    "l3_sg=SoftMaxActivation()"
   ]
  },
  {
   "cell_type": "code",
   "execution_count": null,
   "metadata": {},
   "outputs": [],
   "source": [
    "nn_model= NN(layers=[l1,l2,l2_sg,l3,l3_sg])\n",
    "nn_model.fit(dataset=dataset_)\n",
    "nn_model.predict()"
   ]
  },
  {
   "cell_type": "code",
   "execution_count": null,
   "metadata": {},
   "outputs": [],
   "source": [
    "#part 3\n",
    "\n",
    "l1= Dense(input_size=32,output_size=32)\n",
    "l2= Dense(input_size=32,output_size=16)\n",
    "l3= Dense(input_size=16,output_size=2)\n",
    "l2_sg= ReLUActivation()"
   ]
  },
  {
   "cell_type": "code",
   "execution_count": null,
   "metadata": {},
   "outputs": [],
   "source": [
    "nn_model= NN(layers=[l1,l2,l2_sg,l3])\n",
    "nn_model.fit(dataset=dataset_)\n",
    "nn_model.predict()"
   ]
  }
 ],
 "metadata": {
  "kernelspec": {
   "display_name": "base",
   "language": "python",
   "name": "python3"
  },
  "language_info": {
   "codemirror_mode": {
    "name": "ipython",
    "version": 3
   },
   "file_extension": ".py",
   "mimetype": "text/x-python",
   "name": "python",
   "nbconvert_exporter": "python",
   "pygments_lexer": "ipython3",
   "version": "3.9.7"
  },
  "orig_nbformat": 4,
  "vscode": {
   "interpreter": {
    "hash": "ad2bdc8ecc057115af97d19610ffacc2b4e99fae6737bb82f5d7fb13d2f2c186"
   }
  }
 },
 "nbformat": 4,
 "nbformat_minor": 2
}
