{
 "cells": [
  {
   "cell_type": "markdown",
   "metadata": {},
   "source": [
    "# TESTING Voting and Stacking"
   ]
  },
  {
   "cell_type": "code",
   "execution_count": 1,
   "metadata": {},
   "outputs": [],
   "source": [
    "from si.ensemble.StackingClassifier import StackingClassifier\n",
    "from si.ensemble.Votingclassifier import VotingClassifier\n",
    "import numpy as np\n",
    "import pandas as pd\n",
    "import matplotlib.pyplot as plt\n",
    "from si.read_csv import read_csv\n",
    "from sklearn.preprocessing import StandardScaler\n",
    "from si.model_selection.split import train_test_split\n",
    "from si.neighbors.knn_classifier import KNNClassifier\n",
    "from si.linear_model.logistic_regression import LogisticRegression\n"
   ]
  },
  {
   "cell_type": "code",
   "execution_count": 4,
   "metadata": {},
   "outputs": [
    {
     "data": {
      "text/plain": [
       "array([277,  70,  84,  42,  38, 368,  92, 208,  77,  52,  76, 185,  66,\n",
       "        24,  49,  32,  45,  40,  75,  36,  20,  33,  62, 140,  12, 220,\n",
       "        53,  18,  56,  40, 141,  29,  60,  20,  66,  22,  61,  50,  37,\n",
       "        63,  40,  21, 116, 367,  27,  25,  12,  86, 132,  32,  34, 370,\n",
       "       100,  70,  50,  38,  36, 143, 510,  25, 198,  18,  22,  62,  42,\n",
       "       144,  72,  30,  36,  18,  76,  12, 214,  38,  26,  30,  20, 237,\n",
       "        24,  60,  74, 172,  32,  36,  32, 188,  46, 114,  62,  16, 106,\n",
       "       489,  22, 189,  16,  58, 173,  66, 636, 138,  20, 109,  16,  28,\n",
       "        22,  33,  45,  50, 405, 144,  26,  11,  24,  50,  46, 212,  14,\n",
       "        40, 134,  33,  12,  21,  14,  80,  29,   8, 397, 269, 138, 105,\n",
       "       136, 277,  13,   6,  66,  35,  44, 133,  45,  30, 113,  64,  32,\n",
       "        10,  22,  60,   7], dtype=int64)"
      ]
     },
     "execution_count": 4,
     "metadata": {},
     "output_type": "execute_result"
    }
   ],
   "source": [
    "dataset2= read_csv(\"C:/Users/André Silva/SI/datasets/cpu.csv\", sep=\",\")\n",
    "dataset2.X= StandardScaler().fit_transform(dataset2.X)\n",
    "train,test= train_test_split(dataset2, test_size=0.30)\n",
    "train.y"
   ]
  },
  {
   "cell_type": "code",
   "execution_count": 5,
   "metadata": {},
   "outputs": [],
   "source": [
    "knn1= KNNClassifier(3)\n",
    "knn2=KNNClassifier(3)\n",
    "logistic= LogisticRegression(max_iter=1000)\n",
    "models= [knn1,logistic]\n",
    "stacking= StackingClassifier(models,knn2)"
   ]
  },
  {
   "cell_type": "code",
   "execution_count": 7,
   "metadata": {},
   "outputs": [
    {
     "data": {
      "text/plain": [
       "<si.ensemble.StackingClassifier.StackingClassifier at 0x2b994f3dc70>"
      ]
     },
     "execution_count": 7,
     "metadata": {},
     "output_type": "execute_result"
    }
   ],
   "source": [
    "stacking.fit(train)\n"
   ]
  },
  {
   "cell_type": "code",
   "execution_count": 8,
   "metadata": {},
   "outputs": [
    {
     "data": {
      "text/plain": [
       "array([212,  70,  50,  32,  22, 144,  61, 188,  26,  40,  66, 132,  60,\n",
       "        16,  50,  25,  22,  40,  75,  22,  20,  33,  60, 140,   7, 172,\n",
       "        45,  18,  21,  30, 132,  22,  60,  12,  40,  12,  61,  50,  18,\n",
       "        32,  38,  12,  32, 367,  32,  25,  12,  66, 132,  32,  30, 172,\n",
       "        75,  33,  50,  32,  36,  74, 367,  25, 198,  12,  22,  62,  42,\n",
       "       144,  72,  30,  32,  12,  61,   7, 188,  38,  26,  25,  20, 188,\n",
       "        21,  40,  74, 172,  32,  36,  32, 188,  42, 106,  36,  32, 188,\n",
       "       367,  18, 132,  32,  33, 132,  64, 367,  74,  12,  61,  32,  28,\n",
       "        22,  33,  45,  50, 212, 144,  20,  18,  20,  26,  32, 212,  12,\n",
       "        33, 106,  33,  12,  21,  12,  70,  20,   7, 212, 172,  66,  33,\n",
       "       100, 172,   7,   6,  66,  22,  22, 106,   6,  28,  75,  64,  32,\n",
       "        10,  22,  38,   7], dtype=int64)"
      ]
     },
     "execution_count": 8,
     "metadata": {},
     "output_type": "execute_result"
    }
   ],
   "source": [
    "stacking.predict(train)"
   ]
  },
  {
   "cell_type": "code",
   "execution_count": 9,
   "metadata": {},
   "outputs": [
    {
     "data": {
      "text/plain": [
       "0.03225806451612903"
      ]
     },
     "execution_count": 9,
     "metadata": {},
     "output_type": "execute_result"
    }
   ],
   "source": [
    "stacking.score(test)"
   ]
  }
 ],
 "metadata": {
  "kernelspec": {
   "display_name": "Python 3.9.7 ('base')",
   "language": "python",
   "name": "python3"
  },
  "language_info": {
   "codemirror_mode": {
    "name": "ipython",
    "version": 3
   },
   "file_extension": ".py",
   "mimetype": "text/x-python",
   "name": "python",
   "nbconvert_exporter": "python",
   "pygments_lexer": "ipython3",
   "version": "3.9.7"
  },
  "orig_nbformat": 4,
  "vscode": {
   "interpreter": {
    "hash": "ad2bdc8ecc057115af97d19610ffacc2b4e99fae6737bb82f5d7fb13d2f2c186"
   }
  }
 },
 "nbformat": 4,
 "nbformat_minor": 2
}
