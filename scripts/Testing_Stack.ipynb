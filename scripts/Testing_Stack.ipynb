{
 "cells": [
  {
   "cell_type": "markdown",
   "metadata": {},
   "source": [
    "# TESTING Voting and Stacking"
   ]
  },
  {
   "cell_type": "code",
   "execution_count": 1,
   "metadata": {},
   "outputs": [],
   "source": [
    "from si.ensemble.StackingClassifier import StackingClassifier\n",
    "from si.ensemble.Votingclassifier import VotingClassifier\n",
    "import numpy as np\n",
    "import pandas as pd\n",
    "import matplotlib.pyplot as plt\n",
    "from si.read_csv import read_csv\n",
    "from sklearn.preprocessing import StandardScaler\n",
    "from si.model_selection.split import train_test_split\n",
    "from si.neighbors.knn_classifier import KNNClassifier\n",
    "from si.linear_model.logistic_regression import LogisticRegression\n"
   ]
  },
  {
   "cell_type": "code",
   "execution_count": 3,
   "metadata": {},
   "outputs": [
    {
     "data": {
      "text/plain": [
       "array([116, 367,  27,  25,  12,  86, 132,  32,  34, 370, 100,  70,  50,\n",
       "        38,  36, 143, 510,  25, 198,  18,  22,  62,  42, 144,  72,  30,\n",
       "        36,  18,  76,  12, 214,  38,  26,  30,  20, 237,  24,  60,  74,\n",
       "       172,  32,  36,  32, 188,  46, 114,  62,  16, 106, 489,  22, 189,\n",
       "        16,  58, 173,  66, 636, 138,  20, 109,  16,  28,  22,  33,  45,\n",
       "        50, 405, 144,  26,  11,  24,  50,  46, 212,  14,  40, 134,  33,\n",
       "        12,  21,  14,  80,  29,   8, 397, 269, 138, 105, 136, 277,  13,\n",
       "         6,  66,  35,  44, 133,  45,  30, 113,  64,  32,  10,  22,  60,\n",
       "         7], dtype=int64)"
      ]
     },
     "execution_count": 3,
     "metadata": {},
     "output_type": "execute_result"
    }
   ],
   "source": [
    "dataset2= read_csv(\"C:/Users/André Silva/SI/cpu.csv\", sep=\",\")\n",
    "dataset2.X= StandardScaler().fit_transform(dataset2.X)\n",
    "train,test= train_test_split(dataset2, test_size=0.50)\n",
    "train.y"
   ]
  },
  {
   "cell_type": "code",
   "execution_count": 4,
   "metadata": {},
   "outputs": [],
   "source": [
    "knn1= KNNClassifier(3)\n",
    "knn2=KNNClassifier(3)\n",
    "logistic= LogisticRegression(max_iter=1000)\n",
    "models= [knn1,logistic]\n",
    "stacking= StackingClassifier(models,knn2)"
   ]
  },
  {
   "cell_type": "code",
   "execution_count": 5,
   "metadata": {},
   "outputs": [
    {
     "data": {
      "text/plain": [
       "<si.ensemble.StackingClassifier.StackingClassifier at 0x17df6822640>"
      ]
     },
     "execution_count": 5,
     "metadata": {},
     "output_type": "execute_result"
    }
   ],
   "source": [
    "stacking.fit(train)\n"
   ]
  },
  {
   "cell_type": "code",
   "execution_count": 6,
   "metadata": {},
   "outputs": [
    {
     "ename": "IndexError",
     "evalue": "tuple index out of range",
     "output_type": "error",
     "traceback": [
      "\u001b[1;31m---------------------------------------------------------------------------\u001b[0m",
      "\u001b[1;31mIndexError\u001b[0m                                Traceback (most recent call last)",
      "\u001b[1;32mc:\\Users\\André Silva\\SI\\scripts\\Testing_Stack.ipynb Cell 6\u001b[0m in \u001b[0;36m<cell line: 1>\u001b[1;34m()\u001b[0m\n\u001b[1;32m----> <a href='vscode-notebook-cell:/c%3A/Users/Andr%C3%A9%20Silva/SI/scripts/Testing_Stack.ipynb#W5sZmlsZQ%3D%3D?line=0'>1</a>\u001b[0m stacking\u001b[39m.\u001b[39;49mpredict(train,knn2)\n",
      "File \u001b[1;32mc:\\users\\andré silva\\si\\src\\si\\ensemble\\StackingClassifier.py:59\u001b[0m, in \u001b[0;36mStackingClassifier.predict\u001b[1;34m(self, dataset, final)\u001b[0m\n\u001b[0;32m     46\u001b[0m \u001b[39m\"\"\"\u001b[39;00m\n\u001b[0;32m     47\u001b[0m \u001b[39mPredict class labels for samples in X.\u001b[39;00m\n\u001b[0;32m     48\u001b[0m \u001b[39mParameters\u001b[39;00m\n\u001b[1;32m   (...)\u001b[0m\n\u001b[0;32m     55\u001b[0m \u001b[39m    The predicted class labels.\u001b[39;00m\n\u001b[0;32m     56\u001b[0m \u001b[39m\"\"\"\u001b[39;00m\n\u001b[0;32m     58\u001b[0m predictions \u001b[39m=\u001b[39m np\u001b[39m.\u001b[39marray([model\u001b[39m.\u001b[39mpredict(dataset) \u001b[39mfor\u001b[39;00m model \u001b[39min\u001b[39;00m \u001b[39mself\u001b[39m\u001b[39m.\u001b[39mmodels[\u001b[39m0\u001b[39m:\u001b[39m-\u001b[39m\u001b[39m2\u001b[39m]])\u001b[39m.\u001b[39mtranspose()\n\u001b[1;32m---> 59\u001b[0m prev_prd_data\u001b[39m=\u001b[39m Dataset(X\u001b[39m=\u001b[39;49m predictions,y\u001b[39m=\u001b[39;49m dataset\u001b[39m.\u001b[39;49my)\n\u001b[0;32m     60\u001b[0m final_prediction\u001b[39m=\u001b[39m final\u001b[39m.\u001b[39mpredict(prev_prd_data)\n\u001b[0;32m     61\u001b[0m \u001b[39mreturn\u001b[39;00m final_prediction\n",
      "File \u001b[1;32mc:\\users\\andré silva\\si\\src\\si\\data\\dataset1.py:27\u001b[0m, in \u001b[0;36mDataset.__init__\u001b[1;34m(self, X, y, features, label)\u001b[0m\n\u001b[0;32m     24\u001b[0m     \u001b[39mraise\u001b[39;00m \u001b[39mValueError\u001b[39;00m(\u001b[39m\"\u001b[39m\u001b[39mX cannot be None\u001b[39m\u001b[39m\"\u001b[39m)\n\u001b[0;32m     26\u001b[0m \u001b[39mif\u001b[39;00m features \u001b[39mis\u001b[39;00m \u001b[39mNone\u001b[39;00m:\n\u001b[1;32m---> 27\u001b[0m     features \u001b[39m=\u001b[39m [\u001b[39mstr\u001b[39m(i) \u001b[39mfor\u001b[39;00m i \u001b[39min\u001b[39;00m \u001b[39mrange\u001b[39m(X\u001b[39m.\u001b[39;49mshape[\u001b[39m1\u001b[39;49m])]\n\u001b[0;32m     28\u001b[0m \u001b[39melse\u001b[39;00m:\n\u001b[0;32m     29\u001b[0m     features \u001b[39m=\u001b[39m \u001b[39mlist\u001b[39m(features)\n",
      "\u001b[1;31mIndexError\u001b[0m: tuple index out of range"
     ]
    }
   ],
   "source": [
    "stacking.predict(train,knn2)"
   ]
  },
  {
   "cell_type": "code",
   "execution_count": 10,
   "metadata": {},
   "outputs": [
    {
     "data": {
      "text/plain": [
       "0.3557692307692308"
      ]
     },
     "execution_count": 10,
     "metadata": {},
     "output_type": "execute_result"
    }
   ],
   "source": [
    "stacking.score(test)"
   ]
  }
 ],
 "metadata": {
  "kernelspec": {
   "display_name": "Python 3.9.7 ('base')",
   "language": "python",
   "name": "python3"
  },
  "language_info": {
   "codemirror_mode": {
    "name": "ipython",
    "version": 3
   },
   "file_extension": ".py",
   "mimetype": "text/x-python",
   "name": "python",
   "nbconvert_exporter": "python",
   "pygments_lexer": "ipython3",
   "version": "3.9.7"
  },
  "orig_nbformat": 4,
  "vscode": {
   "interpreter": {
    "hash": "ad2bdc8ecc057115af97d19610ffacc2b4e99fae6737bb82f5d7fb13d2f2c186"
   }
  }
 },
 "nbformat": 4,
 "nbformat_minor": 2
}
